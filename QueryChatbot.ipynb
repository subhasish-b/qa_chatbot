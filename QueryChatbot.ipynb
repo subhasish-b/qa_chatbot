{
 "cells": [
  {
   "cell_type": "code",
   "execution_count": 2,
   "metadata": {
    "collapsed": true,
    "deletable": true,
    "editable": true
   },
   "outputs": [],
   "source": [
    "#important imports\n",
    "import nltk\n",
    "from nltk.tokenize import word_tokenize, sent_tokenize\n",
    "from nltk.corpus import wordnet as wn\n",
    "from nltk.corpus import stopwords\n",
    "from nltk.tokenize import RegexpTokenizer\n",
    "from nltk.stem import WordNetLemmatizer\n",
    "import spacy\n",
    "import numpy as np\n",
    "from spacy.en import English\n",
    "parser = English()"
   ]
  },
  {
   "cell_type": "markdown",
   "metadata": {},
   "source": [
    "## ENTER PASSAGE"
   ]
  },
  {
   "cell_type": "code",
   "execution_count": 74,
   "metadata": {
    "collapsed": false,
    "deletable": true,
    "editable": true
   },
   "outputs": [],
   "source": [
    "#Opening the passage File\n",
    "file = open(\"havard1.txt\")\n",
    "text = file.read()\n"
   ]
  },
  {
   "cell_type": "markdown",
   "metadata": {},
   "source": [
    "## ENTER QUERY"
   ]
  },
  {
   "cell_type": "code",
   "execution_count": null,
   "metadata": {
    "collapsed": true
   },
   "outputs": [],
   "source": [
    "query_question = \"When did the undergraduate program become coeducational?\""
   ]
  },
  {
   "cell_type": "markdown",
   "metadata": {},
   "source": [
    "## process"
   ]
  },
  {
   "cell_type": "code",
   "execution_count": 4,
   "metadata": {
    "collapsed": false,
    "deletable": true,
    "editable": true
   },
   "outputs": [],
   "source": [
    "#Stopwords including the punctuation marks.\n",
    "stopword =stopwords.words('english')\n",
    "punctuation_list = ['!', '\"', '#', '$', '%', '&', \"'\", '(', ')', '*', '+', ',', '-', '.', '/', ':', ';', '<', '=', '>', '?', '@', '[', '\\\\', ']', '^', '_', '`', '{', '|', '}', '~']\n",
    "question_list = [\"How\",\"What\",\"Where\",\"Why\",\"Which\",\"Who\", \"When\"]\n",
    "stopword = stopword + punctuation_list + question_list"
   ]
  },
  {
   "cell_type": "code",
   "execution_count": 54,
   "metadata": {
    "collapsed": false,
    "deletable": true,
    "editable": true
   },
   "outputs": [
    {
     "name": "stdout",
     "output_type": "stream",
     "text": [
      "['undergraduate', 'program', 'become', 'coeducational']\n"
     ]
    }
   ],
   "source": [
    "#Query question\n",
    "lemmatizer = WordNetLemmatizer()\n",
    "\n",
    "query_words = word_tokenize(query_question)\n",
    "query_words_lower = ([x.lower() for x in query_words])\n",
    "query_words_lower =  ([word for word in query_words_lower if word not in stopword])\n",
    "query_words_lower = [lemmatizer.lemmatize(x) for x in query_words_lower]\n",
    "print(query_words_lower)\n"
   ]
  },
  {
   "cell_type": "code",
   "execution_count": 55,
   "metadata": {
    "collapsed": true,
    "deletable": true,
    "editable": true
   },
   "outputs": [],
   "source": [
    "#Tokenizing the passage into sentences\n",
    "passage_sentences = sent_tokenize(text)"
   ]
  },
  {
   "cell_type": "code",
   "execution_count": 56,
   "metadata": {
    "collapsed": false,
    "deletable": true,
    "editable": true
   },
   "outputs": [],
   "source": [
    "count_list = []\n",
    "lemmatizer = WordNetLemmatizer()\n",
    "for sentence in passage_sentences:\n",
    "    count = 0\n",
    "    words = word_tokenize(sentence)\n",
    "    words = ([x.lower() for x in words])\n",
    "    words = ([x for x in words if x not in stopword])\n",
    "    words = [lemmatizer.lemmatize(x) for x in words]\n",
    "    # Finding the actual sentence where answer is\n",
    "    for x in query_words_lower:\n",
    "        if (x in words):\n",
    "            count = count+1\n",
    "    count_list.append(count)    "
   ]
  },
  {
   "cell_type": "code",
   "execution_count": 57,
   "metadata": {
    "collapsed": false,
    "deletable": true,
    "editable": true
   },
   "outputs": [],
   "source": [
    "# Finding the sentence where the sentence exists\n",
    "index_of_sentence = count_list.index(max(count_list))\n",
    "answer_sentence = passage_sentences[index_of_sentence]"
   ]
  },
  {
   "cell_type": "code",
   "execution_count": 58,
   "metadata": {
    "collapsed": false,
    "deletable": true,
    "editable": true
   },
   "outputs": [
    {
     "name": "stdout",
     "output_type": "stream",
     "text": [
      "When WRB ADV\n",
      "did VBD VERB\n",
      "the DT DET\n",
      "undergraduate JJ ADJ\n",
      "program NN NOUN\n",
      "become VB VERB\n",
      "coeducational JJ ADJ\n",
      "? . PUNCT\n"
     ]
    }
   ],
   "source": [
    "#Finding the POS tags in the query question\n",
    "nlp = spacy.load('en')\n",
    "doc = nlp(query_question)\n",
    "for word in doc:\n",
    "    print(word.text, word.tag_, word.pos_)"
   ]
  },
  {
   "cell_type": "code",
   "execution_count": 59,
   "metadata": {
    "collapsed": false,
    "deletable": true,
    "editable": true
   },
   "outputs": [
    {
     "data": {
      "text/plain": [
       "The undergraduate college became coeducational after its 1977 merger with Radcliffe College."
      ]
     },
     "execution_count": 59,
     "metadata": {},
     "output_type": "execute_result"
    }
   ],
   "source": [
    "ans = nlp(passage_sentences[index_of_sentence])\n",
    "ans"
   ]
  },
  {
   "cell_type": "code",
   "execution_count": 60,
   "metadata": {
    "collapsed": false,
    "deletable": true,
    "editable": true
   },
   "outputs": [],
   "source": [
    "wh_map_answer = {\n",
    "    \"who\": [\"PERSON\", \"ORG\"],\n",
    "    \"when\": [\"DATE\", \"TIME\"],\n",
    "    \"where\": [\"GPE\"],\n",
    "    \"which\": [\"PERSON\", \"ORG\", \"GPE\"],\n",
    "    \"what\": [\"PERSON\", \"ORG\"],\n",
    "    \"default\": [\"PERSON\", \"ORG\", \"GPE\", \"TIME\", \"DATE\"]\n",
    "}"
   ]
  },
  {
   "cell_type": "code",
   "execution_count": 61,
   "metadata": {
    "collapsed": false,
    "deletable": true,
    "editable": true
   },
   "outputs": [
    {
     "name": "stdout",
     "output_type": "stream",
     "text": [
      "When did the undergraduate program become coeducational?\n",
      "[(1977, 'DATE')]\n"
     ]
    }
   ],
   "source": [
    "words_in_question = word_tokenize(query_question)\n",
    "words_in_question = ([x.lower() for x in words_in_question])\n",
    "intersection_words = list(set(words_in_question) & set(wh_map_answer.keys()))\n",
    "wh_type = intersection_words[0] if intersection_words else \"default\"\n",
    "answer = [(ent, ent.label_) for ent in ans.ents if ent.label_ in wh_map_answer[wh_type]]\n",
    "print(query_question)\n",
    "print(answer)"
   ]
  },
  {
   "cell_type": "code",
   "execution_count": 62,
   "metadata": {
    "collapsed": false,
    "deletable": true,
    "editable": true
   },
   "outputs": [
    {
     "data": {
      "text/plain": [
       "['undergraduate', 'program', 'become', 'coeducational']"
      ]
     },
     "execution_count": 62,
     "metadata": {},
     "output_type": "execute_result"
    }
   ],
   "source": [
    "# Experiments starts here\n",
    "query_words =  ([word for word in query_words if word not in stopword])\n",
    "query_words = [lemmatizer.lemmatize(x) for x in query_words]\n",
    "query_words"
   ]
  },
  {
   "cell_type": "code",
   "execution_count": 63,
   "metadata": {
    "collapsed": false,
    "deletable": true,
    "editable": true,
    "scrolled": false
   },
   "outputs": [
    {
     "name": "stdout",
     "output_type": "stream",
     "text": [
      "['1977']\n"
     ]
    }
   ],
   "source": [
    "#coming down to one answer\n",
    "answer_candidates = [str(ent) for ent in ans.ents if ent.label_ in wh_map_answer[wh_type]]\n",
    "print(list(answer_candidates))"
   ]
  },
  {
   "cell_type": "code",
   "execution_count": 64,
   "metadata": {
    "collapsed": true,
    "deletable": true,
    "editable": true
   },
   "outputs": [],
   "source": [
    "answer_candidates = list(answer_candidates)"
   ]
  },
  {
   "cell_type": "code",
   "execution_count": 65,
   "metadata": {
    "collapsed": false,
    "deletable": true,
    "editable": true
   },
   "outputs": [],
   "source": [
    "for i in query_words:\n",
    "    if(i in str(answer_candidates)):\n",
    "        answer_candidates.remove(i)"
   ]
  },
  {
   "cell_type": "code",
   "execution_count": 66,
   "metadata": {
    "collapsed": false,
    "deletable": true,
    "editable": true
   },
   "outputs": [],
   "source": [
    "answer_tokenise = nltk.word_tokenize(answer_sentence)"
   ]
  },
  {
   "cell_type": "code",
   "execution_count": 67,
   "metadata": {
    "collapsed": true,
    "deletable": true,
    "editable": true
   },
   "outputs": [],
   "source": [
    "dist = np.zeros((len(query_words), len(answer_candidates)))"
   ]
  },
  {
   "cell_type": "code",
   "execution_count": 68,
   "metadata": {
    "collapsed": false,
    "deletable": true,
    "editable": true
   },
   "outputs": [
    {
     "data": {
      "text/plain": [
       "(4, 1)"
      ]
     },
     "execution_count": 68,
     "metadata": {},
     "output_type": "execute_result"
    }
   ],
   "source": [
    "dist.shape"
   ]
  },
  {
   "cell_type": "code",
   "execution_count": 69,
   "metadata": {
    "collapsed": false,
    "deletable": true,
    "editable": true
   },
   "outputs": [
    {
     "name": "stdout",
     "output_type": "stream",
     "text": [
      "0 ---- 0\n",
      "undergraduate ------ 1977\n",
      "3 ---- 0\n",
      "coeducational ------ 1977\n"
     ]
    }
   ],
   "source": [
    "i=0\n",
    "for ac in answer_candidates:\n",
    "    min = 0\n",
    "#     ac = str(ac).split()[0]\n",
    "    j = 0\n",
    "    for qw in query_words:\n",
    "#         qw = str(qw).split()[0]\n",
    "        if (qw in answer_tokenise):\n",
    "#             tmp = abs(answer_tokenise.index(ac) - answer_tokenise.index(qw))\n",
    "            tmp = abs(answer_sentence.find(str(ac))-answer_sentence.find(str(qw)))\n",
    "            print (j,\"----\", i)\n",
    "            print (qw,\"------\" , ac)\n",
    "            dist[j][i]+=tmp\n",
    "        j=j+1\n",
    "    i=i+1"
   ]
  },
  {
   "cell_type": "code",
   "execution_count": 70,
   "metadata": {
    "collapsed": false,
    "deletable": true,
    "editable": true
   },
   "outputs": [
    {
     "data": {
      "text/plain": [
       "array([[ 53.],\n",
       "       [  0.],\n",
       "       [  0.],\n",
       "       [ 24.]])"
      ]
     },
     "execution_count": 70,
     "metadata": {},
     "output_type": "execute_result"
    }
   ],
   "source": [
    "dist"
   ]
  },
  {
   "cell_type": "code",
   "execution_count": 71,
   "metadata": {
    "collapsed": false,
    "deletable": true,
    "editable": true
   },
   "outputs": [],
   "source": [
    "a = dist.sum(axis = 0)"
   ]
  },
  {
   "cell_type": "code",
   "execution_count": 72,
   "metadata": {
    "collapsed": false
   },
   "outputs": [],
   "source": [
    "m = a.argmin()"
   ]
  },
  {
   "cell_type": "code",
   "execution_count": 75,
   "metadata": {
    "collapsed": false
   },
   "outputs": [
    {
     "name": "stdout",
     "output_type": "stream",
     "text": [
      "When did the undergraduate program become coeducational?\n",
      "1977\n"
     ]
    }
   ],
   "source": [
    "print(query_question)\n",
    "print(answer_candidates[m])"
   ]
  },
  {
   "cell_type": "code",
   "execution_count": null,
   "metadata": {
    "collapsed": true
   },
   "outputs": [],
   "source": []
  }
 ],
 "metadata": {
  "kernelspec": {
   "display_name": "Python 3",
   "language": "python",
   "name": "python3"
  },
  "language_info": {
   "codemirror_mode": {
    "name": "ipython",
    "version": 3
   },
   "file_extension": ".py",
   "mimetype": "text/x-python",
   "name": "python",
   "nbconvert_exporter": "python",
   "pygments_lexer": "ipython3",
   "version": "3.5.2"
  }
 },
 "nbformat": 4,
 "nbformat_minor": 2
}
